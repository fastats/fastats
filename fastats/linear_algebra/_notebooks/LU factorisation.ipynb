{
 "cells": [
  {
   "cell_type": "code",
   "execution_count": 39,
   "metadata": {},
   "outputs": [],
   "source": [
    "import numpy as np\n",
    "from numba import njit"
   ]
  },
  {
   "cell_type": "code",
   "execution_count": 46,
   "metadata": {
    "collapsed": true
   },
   "outputs": [],
   "source": [
    "@njit\n",
    "def lu_compact(A):\n",
    "  \n",
    "    assert A.shape[0] == A.shape[1]\n",
    "\n",
    "    U = A.astype(np.float64)\n",
    "    n = A.shape[0]\n",
    "    L = np.eye(n).astype(np.float64)\n",
    "\n",
    "    for k in range(n - 1):\n",
    "        for j in range(k + 1, n):\n",
    "            L[j, k] = U[j, k] / U[k, k]\n",
    "            U[j, k:n] -= L[j, k] * U[k, k:n]\n",
    "\n",
    "    return L, U"
   ]
  },
  {
   "cell_type": "code",
   "execution_count": 43,
   "metadata": {
    "collapsed": true
   },
   "outputs": [],
   "source": [
    "@njit\n",
    "def lu_inplace(A, L, U):\n",
    "    \n",
    "    assert A.shape[0] == A.shape[1]\n",
    "    assert L.shape[0] == L.shape[1] == A.shape[0]\n",
    "    assert U.shape[0] == U.shape[1] == A.shape[0]\n",
    "\n",
    "    size = len(A)\n",
    "\n",
    "    for i in range(size):\n",
    "        for k in range(size):\n",
    "            total = np.sum(L[i, 0:i] * U[0:i, k])\n",
    "            U[i, k] = A[i, k] - total\n",
    "\n",
    "        for k in range(size):\n",
    "            if i == k:\n",
    "                L[i, i] = 1.0\n",
    "            else:\n",
    "                total = np.sum(L[k, 0:i] * U[0:i, i])\n",
    "                L[k, i] = (A[k, i] - total) / U[i, i]\n",
    "\n",
    "\n",
    "def lu(A):\n",
    "    \n",
    "    L = np.zeros_like(A)\n",
    "    U = np.zeros_like(A)\n",
    "\n",
    "    lu_inplace(A, L, U)\n",
    "    return L, U"
   ]
  },
  {
   "cell_type": "code",
   "execution_count": 44,
   "metadata": {},
   "outputs": [],
   "source": [
    "A = np.array([[4., 12., 8., 4.],\n",
    "         [1., 7., 18., 9.],\n",
    "         [2., 9., 20., 20.],\n",
    "         [3., 11., 15., 14.]])\n",
    "\n",
    "L = np.array([[1, 0, 0, 0],\n",
    "     [0.25, 1.0, 0.0, 0.0],\n",
    "     [0.5, 0.75, 1.0, 0.0],\n",
    "     [0.75, 0.5, 0.25, 1.0],\n",
    "     ])\n",
    "\n",
    "U = np.array([[4.0, 12.0, 8.0, 4.0],\n",
    "     [0.0, 4.0, 16.0, 8.0],\n",
    "     [0.0, 0.0, 4.0, 12.0],\n",
    "     [0.0, 0.0, 0.0, 4.0]])"
   ]
  },
  {
   "cell_type": "code",
   "execution_count": 49,
   "metadata": {},
   "outputs": [
    {
     "name": "stdout",
     "output_type": "stream",
     "text": [
      "7.28 µs ± 1.43 µs per loop (mean ± std. dev. of 7 runs, 100000 loops each)\n"
     ]
    }
   ],
   "source": [
    "%timeit lu_compact(A)"
   ]
  },
  {
   "cell_type": "code",
   "execution_count": 50,
   "metadata": {},
   "outputs": [
    {
     "name": "stdout",
     "output_type": "stream",
     "text": [
      "28.8 µs ± 9.09 µs per loop (mean ± std. dev. of 7 runs, 1 loop each)\n"
     ]
    }
   ],
   "source": [
    "L = np.zeros_like(A)\n",
    "U = np.zeros_like(A)\n",
    "%timeit lu_inplace(A, L, U)"
   ]
  },
  {
   "cell_type": "code",
   "execution_count": 51,
   "metadata": {},
   "outputs": [
    {
     "name": "stdout",
     "output_type": "stream",
     "text": [
      "43.2 µs ± 2.3 µs per loop (mean ± std. dev. of 7 runs, 10000 loops each)\n"
     ]
    }
   ],
   "source": [
    "%timeit lu(A)"
   ]
  },
  {
   "cell_type": "code",
   "execution_count": null,
   "metadata": {
    "collapsed": true
   },
   "outputs": [],
   "source": []
  }
 ],
 "metadata": {
  "kernelspec": {
   "display_name": "Python 3",
   "language": "python",
   "name": "python3"
  },
  "language_info": {
   "codemirror_mode": {
    "name": "ipython",
    "version": 3
   },
   "file_extension": ".py",
   "mimetype": "text/x-python",
   "name": "python",
   "nbconvert_exporter": "python",
   "pygments_lexer": "ipython3",
   "version": "3.6.3"
  }
 },
 "nbformat": 4,
 "nbformat_minor": 2
}
