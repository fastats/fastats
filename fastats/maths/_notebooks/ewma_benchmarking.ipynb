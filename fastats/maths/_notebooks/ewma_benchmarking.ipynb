{
 "cells": [
  {
   "cell_type": "code",
   "execution_count": 1,
   "metadata": {
    "collapsed": true
   },
   "outputs": [],
   "source": [
    "import pandas as pd\n",
    "import numpy as np\n",
    "from numba import njit"
   ]
  },
  {
   "cell_type": "code",
   "execution_count": 2,
   "metadata": {
    "collapsed": true
   },
   "outputs": [],
   "source": [
    "@njit\n",
    "def ewma(x, halflife):\n",
    "    \"\"\"\n",
    "    Exponentially Weighted Moving Average\n",
    "    It is expected that the numbers passed as x will be finite, halflife is\n",
    "    expected to be a finite, non negative number.\n",
    "    >>> ewma(np.arange(5), halflife=2)\n",
    "    array([ 0.        ,  0.58578644,  1.22654092,  1.91911977,  2.65947261])\n",
    "    \"\"\"\n",
    "    assert np.isfinite(halflife) and 0 < halflife\n",
    "\n",
    "    decay_coefficient = np.exp(np.log(0.5) / halflife)\n",
    "    out = np.empty_like(x, dtype=np.float64)\n",
    "\n",
    "    for i in range(out.shape[0]):\n",
    "        if i == 0:\n",
    "            out[i] = x[i]\n",
    "            sum_prior = 1\n",
    "        else:\n",
    "            sum_i = sum_prior + np.power(decay_coefficient, i)\n",
    "            out[i] = (decay_coefficient * out[i - 1] * sum_prior + x[i]) / sum_i\n",
    "            sum_prior = sum_i\n",
    "\n",
    "    return out"
   ]
  },
  {
   "cell_type": "code",
   "execution_count": 3,
   "metadata": {
    "collapsed": true
   },
   "outputs": [],
   "source": [
    "@njit\n",
    "def ewma_2d(x, halflife):\n",
    "\n",
    "    assert x.ndim == 2\n",
    "    assert np.isfinite(halflife) and halflife > 0\n",
    "\n",
    "    decay_coefficient = np.exp(np.log(0.5) / halflife)\n",
    "    out = np.empty_like(x, dtype=np.float64)\n",
    "\n",
    "    for i in range(out.shape[0]):\n",
    "        if i == 0:\n",
    "            out[i, :] = x[i, :]\n",
    "            sum_prior = 1\n",
    "            first_weight = 1\n",
    "        else:\n",
    "            first_weight *= decay_coefficient\n",
    "            sum_i = sum_prior + first_weight\n",
    "\n",
    "            for j in range(x.shape[1]):\n",
    "                out[i, j] = (decay_coefficient * out[i - 1, j] * sum_prior + x[i, j]) / sum_i\n",
    "\n",
    "            sum_prior = sum_i\n",
    "\n",
    "    return out"
   ]
  },
  {
   "cell_type": "code",
   "execution_count": 4,
   "metadata": {
    "collapsed": true
   },
   "outputs": [],
   "source": [
    "x = np.random.rand(100, 100)"
   ]
  },
  {
   "cell_type": "code",
   "execution_count": 5,
   "metadata": {
    "collapsed": true
   },
   "outputs": [],
   "source": [
    "pd.testing.assert_frame_equal(pd.DataFrame(x).ewm(halflife=10).mean(), pd.DataFrame(ewma(x, halflife=10)))"
   ]
  },
  {
   "cell_type": "code",
   "execution_count": 6,
   "metadata": {
    "collapsed": true
   },
   "outputs": [],
   "source": [
    "pd.testing.assert_frame_equal(pd.DataFrame(x).ewm(halflife=10).mean(), pd.DataFrame(ewma_2d(x, halflife=10)))"
   ]
  },
  {
   "cell_type": "code",
   "execution_count": 7,
   "metadata": {
    "collapsed": true
   },
   "outputs": [],
   "source": [
    "wide_shapes = [(10, 10 ** x) for x in range(2, 5)]\n",
    "square_shapes = [(10 ** x, 10 ** x) for x in range(2, 4)]\n",
    "tall_shapes = [(10 ** x, 10) for x in range(2, 5)]"
   ]
  },
  {
   "cell_type": "markdown",
   "metadata": {},
   "source": [
    "## EWMA"
   ]
  },
  {
   "cell_type": "code",
   "execution_count": 8,
   "metadata": {},
   "outputs": [
    {
     "name": "stdout",
     "output_type": "stream",
     "text": [
      "1 of 8\n",
      "2 of 8\n",
      "3 of 8\n",
      "4 of 8\n",
      "5 of 8\n",
      "6 of 8\n",
      "7 of 8\n",
      "8 of 8\n"
     ]
    }
   ],
   "source": [
    "results = []\n",
    "for idx, shape in enumerate(wide_shapes + square_shapes + tall_shapes):\n",
    "    print('{0} of {1}'.format(idx + 1, len(wide_shapes + square_shapes + tall_shapes)))\n",
    "    arr = np.random.rand(*shape)\n",
    "    arr_as_df = pd.DataFrame(arr)\n",
    "    pd_timing = %timeit -o -q arr_as_df.ewm(halflife=10).mean()\n",
    "    new_timing = %timeit -o -q ewma(arr, halflife=10)\n",
    "    results.append((shape, pd_timing.best, new_timing.best))"
   ]
  },
  {
   "cell_type": "code",
   "execution_count": 9,
   "metadata": {},
   "outputs": [
    {
     "data": {
      "text/html": [
       "<div>\n",
       "<style scoped>\n",
       "    .dataframe tbody tr th:only-of-type {\n",
       "        vertical-align: middle;\n",
       "    }\n",
       "\n",
       "    .dataframe tbody tr th {\n",
       "        vertical-align: top;\n",
       "    }\n",
       "\n",
       "    .dataframe thead th {\n",
       "        text-align: right;\n",
       "    }\n",
       "</style>\n",
       "<table border=\"1\" class=\"dataframe\">\n",
       "  <thead>\n",
       "    <tr style=\"text-align: right;\">\n",
       "      <th></th>\n",
       "      <th>shape</th>\n",
       "      <th>pandas time (s)</th>\n",
       "      <th>fastats time (s)</th>\n",
       "      <th>time_diff_multiple</th>\n",
       "    </tr>\n",
       "  </thead>\n",
       "  <tbody>\n",
       "    <tr>\n",
       "      <th>0</th>\n",
       "      <td>(10, 100)</td>\n",
       "      <td>0.002570</td>\n",
       "      <td>0.000007</td>\n",
       "      <td>357.0</td>\n",
       "    </tr>\n",
       "    <tr>\n",
       "      <th>1</th>\n",
       "      <td>(10, 1000)</td>\n",
       "      <td>0.011441</td>\n",
       "      <td>0.000017</td>\n",
       "      <td>678.0</td>\n",
       "    </tr>\n",
       "    <tr>\n",
       "      <th>2</th>\n",
       "      <td>(10, 10000)</td>\n",
       "      <td>0.102917</td>\n",
       "      <td>0.000207</td>\n",
       "      <td>498.0</td>\n",
       "    </tr>\n",
       "    <tr>\n",
       "      <th>3</th>\n",
       "      <td>(100, 100)</td>\n",
       "      <td>0.003098</td>\n",
       "      <td>0.000064</td>\n",
       "      <td>49.0</td>\n",
       "    </tr>\n",
       "    <tr>\n",
       "      <th>4</th>\n",
       "      <td>(1000, 1000)</td>\n",
       "      <td>0.104260</td>\n",
       "      <td>0.007915</td>\n",
       "      <td>13.0</td>\n",
       "    </tr>\n",
       "    <tr>\n",
       "      <th>5</th>\n",
       "      <td>(100, 10)</td>\n",
       "      <td>0.001542</td>\n",
       "      <td>0.000038</td>\n",
       "      <td>41.0</td>\n",
       "    </tr>\n",
       "    <tr>\n",
       "      <th>6</th>\n",
       "      <td>(1000, 10)</td>\n",
       "      <td>0.002636</td>\n",
       "      <td>0.000350</td>\n",
       "      <td>8.0</td>\n",
       "    </tr>\n",
       "    <tr>\n",
       "      <th>7</th>\n",
       "      <td>(10000, 10)</td>\n",
       "      <td>0.013061</td>\n",
       "      <td>0.003192</td>\n",
       "      <td>4.0</td>\n",
       "    </tr>\n",
       "  </tbody>\n",
       "</table>\n",
       "</div>"
      ],
      "text/plain": [
       "          shape  pandas time (s)  fastats time (s)  time_diff_multiple\n",
       "0     (10, 100)         0.002570          0.000007               357.0\n",
       "1    (10, 1000)         0.011441          0.000017               678.0\n",
       "2   (10, 10000)         0.102917          0.000207               498.0\n",
       "3    (100, 100)         0.003098          0.000064                49.0\n",
       "4  (1000, 1000)         0.104260          0.007915                13.0\n",
       "5     (100, 10)         0.001542          0.000038                41.0\n",
       "6    (1000, 10)         0.002636          0.000350                 8.0\n",
       "7   (10000, 10)         0.013061          0.003192                 4.0"
      ]
     },
     "execution_count": 9,
     "metadata": {},
     "output_type": "execute_result"
    }
   ],
   "source": [
    "results_as_df = pd.DataFrame.from_records(results, columns=['shape', 'pandas time (s)', 'fastats time (s)'])\n",
    "results_as_df['time_diff_multiple'] = round(results_as_df['pandas time (s)'] /  results_as_df['fastats time (s)'])\n",
    "results_as_df"
   ]
  },
  {
   "cell_type": "markdown",
   "metadata": {},
   "source": [
    "## EWMA_2D"
   ]
  },
  {
   "cell_type": "code",
   "execution_count": 10,
   "metadata": {},
   "outputs": [
    {
     "name": "stdout",
     "output_type": "stream",
     "text": [
      "1 of 8\n",
      "2 of 8\n",
      "3 of 8\n",
      "4 of 8\n",
      "5 of 8\n",
      "6 of 8\n",
      "7 of 8\n",
      "8 of 8\n"
     ]
    }
   ],
   "source": [
    "results = []\n",
    "for idx, shape in enumerate(wide_shapes + square_shapes + tall_shapes):\n",
    "    print('{0} of {1}'.format(idx + 1, len(wide_shapes + square_shapes + tall_shapes)))\n",
    "    arr = np.random.rand(*shape)\n",
    "    arr_as_df = pd.DataFrame(arr)\n",
    "    pd_timing = %timeit -o -q arr_as_df.ewm(halflife=10).mean()\n",
    "    new_timing = %timeit -o -q ewma_2d(arr, halflife=10)\n",
    "    results.append((shape, pd_timing.best, new_timing.best))"
   ]
  },
  {
   "cell_type": "code",
   "execution_count": 12,
   "metadata": {},
   "outputs": [
    {
     "data": {
      "text/html": [
       "<div>\n",
       "<style scoped>\n",
       "    .dataframe tbody tr th:only-of-type {\n",
       "        vertical-align: middle;\n",
       "    }\n",
       "\n",
       "    .dataframe tbody tr th {\n",
       "        vertical-align: top;\n",
       "    }\n",
       "\n",
       "    .dataframe thead th {\n",
       "        text-align: right;\n",
       "    }\n",
       "</style>\n",
       "<table border=\"1\" class=\"dataframe\">\n",
       "  <thead>\n",
       "    <tr style=\"text-align: right;\">\n",
       "      <th></th>\n",
       "      <th>shape</th>\n",
       "      <th>pandas time (s)</th>\n",
       "      <th>fastats time (s)</th>\n",
       "      <th>time_diff_multiple</th>\n",
       "    </tr>\n",
       "  </thead>\n",
       "  <tbody>\n",
       "    <tr>\n",
       "      <th>0</th>\n",
       "      <td>(10, 100)</td>\n",
       "      <td>0.002565</td>\n",
       "      <td>0.000003</td>\n",
       "      <td>813.0</td>\n",
       "    </tr>\n",
       "    <tr>\n",
       "      <th>1</th>\n",
       "      <td>(10, 1000)</td>\n",
       "      <td>0.012412</td>\n",
       "      <td>0.000015</td>\n",
       "      <td>833.0</td>\n",
       "    </tr>\n",
       "    <tr>\n",
       "      <th>2</th>\n",
       "      <td>(10, 10000)</td>\n",
       "      <td>0.119828</td>\n",
       "      <td>0.000088</td>\n",
       "      <td>1364.0</td>\n",
       "    </tr>\n",
       "    <tr>\n",
       "      <th>3</th>\n",
       "      <td>(100, 100)</td>\n",
       "      <td>0.003023</td>\n",
       "      <td>0.000016</td>\n",
       "      <td>187.0</td>\n",
       "    </tr>\n",
       "    <tr>\n",
       "      <th>4</th>\n",
       "      <td>(1000, 1000)</td>\n",
       "      <td>0.164218</td>\n",
       "      <td>0.006928</td>\n",
       "      <td>24.0</td>\n",
       "    </tr>\n",
       "    <tr>\n",
       "      <th>5</th>\n",
       "      <td>(100, 10)</td>\n",
       "      <td>0.001673</td>\n",
       "      <td>0.000004</td>\n",
       "      <td>396.0</td>\n",
       "    </tr>\n",
       "    <tr>\n",
       "      <th>6</th>\n",
       "      <td>(1000, 10)</td>\n",
       "      <td>0.002702</td>\n",
       "      <td>0.000026</td>\n",
       "      <td>105.0</td>\n",
       "    </tr>\n",
       "    <tr>\n",
       "      <th>7</th>\n",
       "      <td>(10000, 10)</td>\n",
       "      <td>0.014882</td>\n",
       "      <td>0.000228</td>\n",
       "      <td>65.0</td>\n",
       "    </tr>\n",
       "  </tbody>\n",
       "</table>\n",
       "</div>"
      ],
      "text/plain": [
       "          shape  pandas time (s)  fastats time (s)  time_diff_multiple\n",
       "0     (10, 100)         0.002565          0.000003               813.0\n",
       "1    (10, 1000)         0.012412          0.000015               833.0\n",
       "2   (10, 10000)         0.119828          0.000088              1364.0\n",
       "3    (100, 100)         0.003023          0.000016               187.0\n",
       "4  (1000, 1000)         0.164218          0.006928                24.0\n",
       "5     (100, 10)         0.001673          0.000004               396.0\n",
       "6    (1000, 10)         0.002702          0.000026               105.0\n",
       "7   (10000, 10)         0.014882          0.000228                65.0"
      ]
     },
     "execution_count": 12,
     "metadata": {},
     "output_type": "execute_result"
    }
   ],
   "source": [
    "results_as_df_2d = pd.DataFrame.from_records(results, columns=['shape', 'pandas time (s)', 'fastats time (s)'])\n",
    "results_as_df_2d['time_diff_multiple'] = round(results_as_df_2d['pandas time (s)'] /  results_as_df_2d['fastats time (s)'])\n",
    "results_as_df_2d"
   ]
  },
  {
   "cell_type": "code",
   "execution_count": null,
   "metadata": {
    "collapsed": true
   },
   "outputs": [],
   "source": []
  }
 ],
 "metadata": {
  "kernelspec": {
   "display_name": "Python 3",
   "language": "python",
   "name": "python3"
  },
  "language_info": {
   "codemirror_mode": {
    "name": "ipython",
    "version": 3
   },
   "file_extension": ".py",
   "mimetype": "text/x-python",
   "name": "python",
   "nbconvert_exporter": "python",
   "pygments_lexer": "ipython3",
   "version": "3.6.3"
  }
 },
 "nbformat": 4,
 "nbformat_minor": 2
}
